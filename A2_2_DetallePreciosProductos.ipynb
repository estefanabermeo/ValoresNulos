{
  "nbformat": 4,
  "nbformat_minor": 0,
  "metadata": {
    "colab": {
      "provenance": [],
      "authorship_tag": "ABX9TyPl+XxO5TUscGbKJkZGJL3j",
      "include_colab_link": true
    },
    "kernelspec": {
      "name": "python3",
      "display_name": "Python 3"
    },
    "language_info": {
      "name": "python"
    }
  },
  "cells": [
    {
      "cell_type": "markdown",
      "metadata": {
        "id": "view-in-github",
        "colab_type": "text"
      },
      "source": [
        "<a href=\"https://colab.research.google.com/github/estefanabermeo/ValoresNulos/blob/main/A2_2_DetallePreciosProductos.ipynb\" target=\"_parent\"><img src=\"https://colab.research.google.com/assets/colab-badge.svg\" alt=\"Open In Colab\"/></a>"
      ]
    },
    {
      "cell_type": "markdown",
      "source": [
        "# **Detalle Precios y Productos Fabricados 2022**\n",
        "#### Actividad 2.2 - Valores Nulos\n",
        "\n",
        "**EQUIPO 10:**\n",
        "\n",
        "* Estefana Bermeo Severiano - A01367558\n",
        "* Miguel Saúl Fernández Ávalos - A01707491\n",
        "* Mariel Quetzali Fernández Montes - A0170779\n",
        "* Christian Jesús Soto-Vieyra Gil - A01707759\n"
      ],
      "metadata": {
        "id": "GwuBFR_hTITm"
      }
    },
    {
      "cell_type": "code",
      "execution_count": 18,
      "metadata": {
        "id": "B8eGo_DqR6oT"
      },
      "outputs": [],
      "source": [
        "#Importamos las librerias pandas, numpy y matplotlib respectivamente\n",
        "import pandas as pd\n",
        "import numpy as np\n",
        "import matplotlib.pyplot as plt"
      ]
    },
    {
      "cell_type": "code",
      "source": [
        "#Carga desde un archivo .xlsx sin indice\n",
        "precios = pd.read_excel('Detalle precios y productos fabricados 2022.xlsx')\n",
        "precios.head(5)"
      ],
      "metadata": {
        "colab": {
          "base_uri": "https://localhost:8080/",
          "height": 426
        },
        "id": "xCQh5sSpUEAg",
        "outputId": "b365bca0-611c-483f-b3b8-fcdaeb268f9b"
      },
      "execution_count": 19,
      "outputs": [
        {
          "output_type": "execute_result",
          "data": {
            "text/plain": [
              "  CVE_DOC  FECHA_DOC            NOMBRE_VENDEDOR                NOMBRE_CLIENTE  \\\n",
              "0  F37034 2022-01-05  LETICIA RAMIREZ HERNANDEZ            PÚBLICO EN GENERAL   \n",
              "1  F37036 2022-01-05  LETICIA RAMIREZ HERNANDEZ  JUAN ANTONIO RESENDIZ UGALDE   \n",
              "2  F37041 2022-01-05   DIEGO ARMANDO LEON DURAN     ANA BARBARA CRUZ PALACIOS   \n",
              "3  F37042 2022-01-05   DIEGO ARMANDO LEON DURAN          OMAR RODRIGUEZ GOMEZ   \n",
              "4  F37043 2022-01-05  LETICIA RAMIREZ HERNANDEZ            PÚBLICO EN GENERAL   \n",
              "\n",
              "   CANT   CVE_ART                                    DESCR  PRECIO_UNITARIO  \\\n",
              "0     1  TUE00244  TUB COBRE 5/16\"ØX165MM CIRCULA1.5KW127V           434.48   \n",
              "1     1  TUA00028  TUA U\" 5/16 ØX250MM 1200W 120V TAP1\"NPT          1264.05   \n",
              "2     7    TP0007     TERMOPAR J 3/16 Ø X 1' 1/2 EXT. 7 MT           551.61   \n",
              "3     1    TP0001     TERMOPAR J 3/16 Ø X 1' 1/2 EXT. 1 MT           140.00   \n",
              "4     2   BP00242  BAN P INOX 115MMX235MM 1000W 127V T/TOR           172.41   \n",
              "\n",
              "   COSTO_UNITARIO  COSTO_UNITARIO_CALCULADO  SUBTOTAL_PARTIDA  \\\n",
              "0           52.80                     52.80            434.48   \n",
              "1          327.18                    327.18           1264.05   \n",
              "2          177.68                    177.68           3861.29   \n",
              "3           38.96                     38.96            140.00   \n",
              "4          101.71                    101.71            344.83   \n",
              "\n",
              "   COSTO_TOTAL_CALCULADO  MARGEN_UNITARIO_CALCULADO  MARGEN_TOTAL_CALCULADO  \n",
              "0                  52.80                     381.68                  381.68  \n",
              "1                 327.18                     936.87                  936.87  \n",
              "2                1243.73                     373.94                 2617.56  \n",
              "3                  38.96                     101.04                  101.04  \n",
              "4                 203.42                      70.71                  141.41  "
            ],
            "text/html": [
              "\n",
              "  <div id=\"df-0273b6de-e913-4058-b5e0-9c457d9c35a5\">\n",
              "    <div class=\"colab-df-container\">\n",
              "      <div>\n",
              "<style scoped>\n",
              "    .dataframe tbody tr th:only-of-type {\n",
              "        vertical-align: middle;\n",
              "    }\n",
              "\n",
              "    .dataframe tbody tr th {\n",
              "        vertical-align: top;\n",
              "    }\n",
              "\n",
              "    .dataframe thead th {\n",
              "        text-align: right;\n",
              "    }\n",
              "</style>\n",
              "<table border=\"1\" class=\"dataframe\">\n",
              "  <thead>\n",
              "    <tr style=\"text-align: right;\">\n",
              "      <th></th>\n",
              "      <th>CVE_DOC</th>\n",
              "      <th>FECHA_DOC</th>\n",
              "      <th>NOMBRE_VENDEDOR</th>\n",
              "      <th>NOMBRE_CLIENTE</th>\n",
              "      <th>CANT</th>\n",
              "      <th>CVE_ART</th>\n",
              "      <th>DESCR</th>\n",
              "      <th>PRECIO_UNITARIO</th>\n",
              "      <th>COSTO_UNITARIO</th>\n",
              "      <th>COSTO_UNITARIO_CALCULADO</th>\n",
              "      <th>SUBTOTAL_PARTIDA</th>\n",
              "      <th>COSTO_TOTAL_CALCULADO</th>\n",
              "      <th>MARGEN_UNITARIO_CALCULADO</th>\n",
              "      <th>MARGEN_TOTAL_CALCULADO</th>\n",
              "    </tr>\n",
              "  </thead>\n",
              "  <tbody>\n",
              "    <tr>\n",
              "      <th>0</th>\n",
              "      <td>F37034</td>\n",
              "      <td>2022-01-05</td>\n",
              "      <td>LETICIA RAMIREZ HERNANDEZ</td>\n",
              "      <td>PÚBLICO EN GENERAL</td>\n",
              "      <td>1</td>\n",
              "      <td>TUE00244</td>\n",
              "      <td>TUB COBRE 5/16\"ØX165MM CIRCULA1.5KW127V</td>\n",
              "      <td>434.48</td>\n",
              "      <td>52.80</td>\n",
              "      <td>52.80</td>\n",
              "      <td>434.48</td>\n",
              "      <td>52.80</td>\n",
              "      <td>381.68</td>\n",
              "      <td>381.68</td>\n",
              "    </tr>\n",
              "    <tr>\n",
              "      <th>1</th>\n",
              "      <td>F37036</td>\n",
              "      <td>2022-01-05</td>\n",
              "      <td>LETICIA RAMIREZ HERNANDEZ</td>\n",
              "      <td>JUAN ANTONIO RESENDIZ UGALDE</td>\n",
              "      <td>1</td>\n",
              "      <td>TUA00028</td>\n",
              "      <td>TUA U\" 5/16 ØX250MM 1200W 120V TAP1\"NPT</td>\n",
              "      <td>1264.05</td>\n",
              "      <td>327.18</td>\n",
              "      <td>327.18</td>\n",
              "      <td>1264.05</td>\n",
              "      <td>327.18</td>\n",
              "      <td>936.87</td>\n",
              "      <td>936.87</td>\n",
              "    </tr>\n",
              "    <tr>\n",
              "      <th>2</th>\n",
              "      <td>F37041</td>\n",
              "      <td>2022-01-05</td>\n",
              "      <td>DIEGO ARMANDO LEON DURAN</td>\n",
              "      <td>ANA BARBARA CRUZ PALACIOS</td>\n",
              "      <td>7</td>\n",
              "      <td>TP0007</td>\n",
              "      <td>TERMOPAR J 3/16 Ø X 1' 1/2 EXT. 7 MT</td>\n",
              "      <td>551.61</td>\n",
              "      <td>177.68</td>\n",
              "      <td>177.68</td>\n",
              "      <td>3861.29</td>\n",
              "      <td>1243.73</td>\n",
              "      <td>373.94</td>\n",
              "      <td>2617.56</td>\n",
              "    </tr>\n",
              "    <tr>\n",
              "      <th>3</th>\n",
              "      <td>F37042</td>\n",
              "      <td>2022-01-05</td>\n",
              "      <td>DIEGO ARMANDO LEON DURAN</td>\n",
              "      <td>OMAR RODRIGUEZ GOMEZ</td>\n",
              "      <td>1</td>\n",
              "      <td>TP0001</td>\n",
              "      <td>TERMOPAR J 3/16 Ø X 1' 1/2 EXT. 1 MT</td>\n",
              "      <td>140.00</td>\n",
              "      <td>38.96</td>\n",
              "      <td>38.96</td>\n",
              "      <td>140.00</td>\n",
              "      <td>38.96</td>\n",
              "      <td>101.04</td>\n",
              "      <td>101.04</td>\n",
              "    </tr>\n",
              "    <tr>\n",
              "      <th>4</th>\n",
              "      <td>F37043</td>\n",
              "      <td>2022-01-05</td>\n",
              "      <td>LETICIA RAMIREZ HERNANDEZ</td>\n",
              "      <td>PÚBLICO EN GENERAL</td>\n",
              "      <td>2</td>\n",
              "      <td>BP00242</td>\n",
              "      <td>BAN P INOX 115MMX235MM 1000W 127V T/TOR</td>\n",
              "      <td>172.41</td>\n",
              "      <td>101.71</td>\n",
              "      <td>101.71</td>\n",
              "      <td>344.83</td>\n",
              "      <td>203.42</td>\n",
              "      <td>70.71</td>\n",
              "      <td>141.41</td>\n",
              "    </tr>\n",
              "  </tbody>\n",
              "</table>\n",
              "</div>\n",
              "      <button class=\"colab-df-convert\" onclick=\"convertToInteractive('df-0273b6de-e913-4058-b5e0-9c457d9c35a5')\"\n",
              "              title=\"Convert this dataframe to an interactive table.\"\n",
              "              style=\"display:none;\">\n",
              "        \n",
              "  <svg xmlns=\"http://www.w3.org/2000/svg\" height=\"24px\"viewBox=\"0 0 24 24\"\n",
              "       width=\"24px\">\n",
              "    <path d=\"M0 0h24v24H0V0z\" fill=\"none\"/>\n",
              "    <path d=\"M18.56 5.44l.94 2.06.94-2.06 2.06-.94-2.06-.94-.94-2.06-.94 2.06-2.06.94zm-11 1L8.5 8.5l.94-2.06 2.06-.94-2.06-.94L8.5 2.5l-.94 2.06-2.06.94zm10 10l.94 2.06.94-2.06 2.06-.94-2.06-.94-.94-2.06-.94 2.06-2.06.94z\"/><path d=\"M17.41 7.96l-1.37-1.37c-.4-.4-.92-.59-1.43-.59-.52 0-1.04.2-1.43.59L10.3 9.45l-7.72 7.72c-.78.78-.78 2.05 0 2.83L4 21.41c.39.39.9.59 1.41.59.51 0 1.02-.2 1.41-.59l7.78-7.78 2.81-2.81c.8-.78.8-2.07 0-2.86zM5.41 20L4 18.59l7.72-7.72 1.47 1.35L5.41 20z\"/>\n",
              "  </svg>\n",
              "      </button>\n",
              "      \n",
              "  <style>\n",
              "    .colab-df-container {\n",
              "      display:flex;\n",
              "      flex-wrap:wrap;\n",
              "      gap: 12px;\n",
              "    }\n",
              "\n",
              "    .colab-df-convert {\n",
              "      background-color: #E8F0FE;\n",
              "      border: none;\n",
              "      border-radius: 50%;\n",
              "      cursor: pointer;\n",
              "      display: none;\n",
              "      fill: #1967D2;\n",
              "      height: 32px;\n",
              "      padding: 0 0 0 0;\n",
              "      width: 32px;\n",
              "    }\n",
              "\n",
              "    .colab-df-convert:hover {\n",
              "      background-color: #E2EBFA;\n",
              "      box-shadow: 0px 1px 2px rgba(60, 64, 67, 0.3), 0px 1px 3px 1px rgba(60, 64, 67, 0.15);\n",
              "      fill: #174EA6;\n",
              "    }\n",
              "\n",
              "    [theme=dark] .colab-df-convert {\n",
              "      background-color: #3B4455;\n",
              "      fill: #D2E3FC;\n",
              "    }\n",
              "\n",
              "    [theme=dark] .colab-df-convert:hover {\n",
              "      background-color: #434B5C;\n",
              "      box-shadow: 0px 1px 3px 1px rgba(0, 0, 0, 0.15);\n",
              "      filter: drop-shadow(0px 1px 2px rgba(0, 0, 0, 0.3));\n",
              "      fill: #FFFFFF;\n",
              "    }\n",
              "  </style>\n",
              "\n",
              "      <script>\n",
              "        const buttonEl =\n",
              "          document.querySelector('#df-0273b6de-e913-4058-b5e0-9c457d9c35a5 button.colab-df-convert');\n",
              "        buttonEl.style.display =\n",
              "          google.colab.kernel.accessAllowed ? 'block' : 'none';\n",
              "\n",
              "        async function convertToInteractive(key) {\n",
              "          const element = document.querySelector('#df-0273b6de-e913-4058-b5e0-9c457d9c35a5');\n",
              "          const dataTable =\n",
              "            await google.colab.kernel.invokeFunction('convertToInteractive',\n",
              "                                                     [key], {});\n",
              "          if (!dataTable) return;\n",
              "\n",
              "          const docLinkHtml = 'Like what you see? Visit the ' +\n",
              "            '<a target=\"_blank\" href=https://colab.research.google.com/notebooks/data_table.ipynb>data table notebook</a>'\n",
              "            + ' to learn more about interactive tables.';\n",
              "          element.innerHTML = '';\n",
              "          dataTable['output_type'] = 'display_data';\n",
              "          await google.colab.output.renderOutput(dataTable, element);\n",
              "          const docLink = document.createElement('div');\n",
              "          docLink.innerHTML = docLinkHtml;\n",
              "          element.appendChild(docLink);\n",
              "        }\n",
              "      </script>\n",
              "    </div>\n",
              "  </div>\n",
              "  "
            ]
          },
          "metadata": {},
          "execution_count": 19
        }
      ]
    },
    {
      "cell_type": "code",
      "source": [
        "#Identificar valores nulos por columna\n",
        "valores_nulos=precios.isnull().sum()\n",
        "valores_nulos"
      ],
      "metadata": {
        "colab": {
          "base_uri": "https://localhost:8080/"
        },
        "id": "9aXfK8U9UidK",
        "outputId": "2e7649c5-341c-4548-f98f-b4e146c1dae8"
      },
      "execution_count": 20,
      "outputs": [
        {
          "output_type": "execute_result",
          "data": {
            "text/plain": [
              "CVE_DOC                      0\n",
              "FECHA_DOC                    0\n",
              "NOMBRE_VENDEDOR              2\n",
              "NOMBRE_CLIENTE               0\n",
              "CANT                         0\n",
              "CVE_ART                      0\n",
              "DESCR                        0\n",
              "PRECIO_UNITARIO              0\n",
              "COSTO_UNITARIO               0\n",
              "COSTO_UNITARIO_CALCULADO     0\n",
              "SUBTOTAL_PARTIDA             0\n",
              "COSTO_TOTAL_CALCULADO        0\n",
              "MARGEN_UNITARIO_CALCULADO    0\n",
              "MARGEN_TOTAL_CALCULADO       0\n",
              "dtype: int64"
            ]
          },
          "metadata": {},
          "execution_count": 20
        }
      ]
    },
    {
      "cell_type": "markdown",
      "source": [
        "### **Método de sustitución de valores nulos**"
      ],
      "metadata": {
        "id": "CgfMEzirWJiD"
      }
    },
    {
      "cell_type": "code",
      "source": [
        "# Para la columna \"NOMBRE_VENDEDOR\" que tiene 2 valores nulos los sustituimos por la leyenda \"Sin registro\" ya que no conocemos el nombre de la persona que realizó esa venta\n",
        "precios[\"NOMBRE_VENDEDOR\"] = precios[\"NOMBRE_VENDEDOR\"].fillna(\"SIN REGISTRO\") "
      ],
      "metadata": {
        "id": "834pZr95WRqX"
      },
      "execution_count": 21,
      "outputs": []
    },
    {
      "cell_type": "code",
      "source": [
        "#Corroboramos valores nulos en las columnas\n",
        "valores_nulos = precios.isnull().sum()\n",
        "valores_nulos"
      ],
      "metadata": {
        "colab": {
          "base_uri": "https://localhost:8080/"
        },
        "id": "6wphnoq5W7bB",
        "outputId": "7b6e3f84-299f-47ca-e6f8-03170d4eca41"
      },
      "execution_count": 22,
      "outputs": [
        {
          "output_type": "execute_result",
          "data": {
            "text/plain": [
              "CVE_DOC                      0\n",
              "FECHA_DOC                    0\n",
              "NOMBRE_VENDEDOR              0\n",
              "NOMBRE_CLIENTE               0\n",
              "CANT                         0\n",
              "CVE_ART                      0\n",
              "DESCR                        0\n",
              "PRECIO_UNITARIO              0\n",
              "COSTO_UNITARIO               0\n",
              "COSTO_UNITARIO_CALCULADO     0\n",
              "SUBTOTAL_PARTIDA             0\n",
              "COSTO_TOTAL_CALCULADO        0\n",
              "MARGEN_UNITARIO_CALCULADO    0\n",
              "MARGEN_TOTAL_CALCULADO       0\n",
              "dtype: int64"
            ]
          },
          "metadata": {},
          "execution_count": 22
        }
      ]
    },
    {
      "cell_type": "code",
      "source": [
        "# Comprobamos que no existan valores nulos en todo el dataframe\n",
        "valores_nulos = precios.isnull().sum().sum()\n",
        "valores_nulos"
      ],
      "metadata": {
        "colab": {
          "base_uri": "https://localhost:8080/"
        },
        "id": "iQrfHsjqWzrd",
        "outputId": "241d08cb-4d0b-42bd-820f-d2d25e42c3eb"
      },
      "execution_count": 23,
      "outputs": [
        {
          "output_type": "execute_result",
          "data": {
            "text/plain": [
              "0"
            ]
          },
          "metadata": {},
          "execution_count": 23
        }
      ]
    },
    {
      "cell_type": "code",
      "source": [
        "#Convertir DataFrame a XLSX\n",
        "precios.to_excel(\"Detalle Precios y Productos Fabricados sin Nulos.xlsx\")"
      ],
      "metadata": {
        "id": "yLa9nRzscoUV"
      },
      "execution_count": 24,
      "outputs": []
    },
    {
      "cell_type": "code",
      "source": [
        "#Descargar archivo filtrado en csv\n",
        "from google.colab import files   \n",
        "files.download(\"Detalle Precios y Productos Fabricados sin Nulos.xlsx\")"
      ],
      "metadata": {
        "colab": {
          "base_uri": "https://localhost:8080/",
          "height": 17
        },
        "id": "01uPvniFc4VV",
        "outputId": "f59cb95f-2244-47f9-f5e1-b36189bb7b52"
      },
      "execution_count": 26,
      "outputs": [
        {
          "output_type": "display_data",
          "data": {
            "text/plain": [
              "<IPython.core.display.Javascript object>"
            ],
            "application/javascript": [
              "\n",
              "    async function download(id, filename, size) {\n",
              "      if (!google.colab.kernel.accessAllowed) {\n",
              "        return;\n",
              "      }\n",
              "      const div = document.createElement('div');\n",
              "      const label = document.createElement('label');\n",
              "      label.textContent = `Downloading \"${filename}\": `;\n",
              "      div.appendChild(label);\n",
              "      const progress = document.createElement('progress');\n",
              "      progress.max = size;\n",
              "      div.appendChild(progress);\n",
              "      document.body.appendChild(div);\n",
              "\n",
              "      const buffers = [];\n",
              "      let downloaded = 0;\n",
              "\n",
              "      const channel = await google.colab.kernel.comms.open(id);\n",
              "      // Send a message to notify the kernel that we're ready.\n",
              "      channel.send({})\n",
              "\n",
              "      for await (const message of channel.messages) {\n",
              "        // Send a message to notify the kernel that we're ready.\n",
              "        channel.send({})\n",
              "        if (message.buffers) {\n",
              "          for (const buffer of message.buffers) {\n",
              "            buffers.push(buffer);\n",
              "            downloaded += buffer.byteLength;\n",
              "            progress.value = downloaded;\n",
              "          }\n",
              "        }\n",
              "      }\n",
              "      const blob = new Blob(buffers, {type: 'application/binary'});\n",
              "      const a = document.createElement('a');\n",
              "      a.href = window.URL.createObjectURL(blob);\n",
              "      a.download = filename;\n",
              "      div.appendChild(a);\n",
              "      a.click();\n",
              "      div.remove();\n",
              "    }\n",
              "  "
            ]
          },
          "metadata": {}
        },
        {
          "output_type": "display_data",
          "data": {
            "text/plain": [
              "<IPython.core.display.Javascript object>"
            ],
            "application/javascript": [
              "download(\"download_19504760-a6d6-4d43-9128-57d8eda72c1d\", \"Detalle Precios y Productos Fabricados sin Nulos.xlsx\", 161503)"
            ]
          },
          "metadata": {}
        }
      ]
    }
  ]
}