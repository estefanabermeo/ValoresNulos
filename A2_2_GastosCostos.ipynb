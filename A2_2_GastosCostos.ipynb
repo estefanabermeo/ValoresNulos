{
  "nbformat": 4,
  "nbformat_minor": 0,
  "metadata": {
    "colab": {
      "provenance": [],
      "include_colab_link": true
    },
    "kernelspec": {
      "name": "python3",
      "display_name": "Python 3"
    },
    "language_info": {
      "name": "python"
    }
  },
  "cells": [
    {
      "cell_type": "markdown",
      "metadata": {
        "id": "view-in-github",
        "colab_type": "text"
      },
      "source": [
        "<a href=\"https://colab.research.google.com/github/estefanabermeo/ValoresNulos/blob/main/A2_2_GastosCostos.ipynb\" target=\"_parent\"><img src=\"https://colab.research.google.com/assets/colab-badge.svg\" alt=\"Open In Colab\"/></a>"
      ]
    },
    {
      "cell_type": "markdown",
      "source": [
        "# **Gatos y Costos 20-23**\n",
        "\n",
        "**EQUIPO 10:**\n",
        "\n",
        "* Estefana Bermeo Severiano - A01367558\n",
        "* Miguel Saúl Fernández Ávalos - A01707491\n",
        "* Mariel Quetzali Fernández Montes - A0170779\n",
        "* Christian Jesús Soto-Vieyra Gil - A01707759"
      ],
      "metadata": {
        "id": "rpu-bn4erhUa"
      }
    },
    {
      "cell_type": "code",
      "execution_count": null,
      "metadata": {
        "id": "int20vQmrJiw"
      },
      "outputs": [],
      "source": [
        "#Importamos librerías requeridas\n",
        "import pandas as pd\n",
        "import numpy as np\n",
        "import matplotlib.pyplot as plt\n",
        "import seaborn as sns"
      ]
    },
    {
      "cell_type": "code",
      "source": [
        "#Cargar archivo csv desde equipo\n",
        "#from google.colab import files\n",
        "#files.upload()"
      ],
      "metadata": {
        "id": "5diaZmVxrOyx"
      },
      "execution_count": null,
      "outputs": []
    },
    {
      "cell_type": "code",
      "source": [
        "#Carga desde un archivo .xlsx sin indice\n",
        "gastos = pd.read_excel(\"gastos20-23.xlsx\",sheet_name= \"2020\")\n",
        "gastos21 = pd.read_excel(\"gastos20-23.xlsx\",sheet_name= \"2021\")\n",
        "gastos22 = pd.read_excel(\"gastos20-23.xlsx\",sheet_name= \"2022\")\n",
        "gastos23 = pd.read_excel(\"gastos20-23.xlsx\",sheet_name= \"2023\")"
      ],
      "metadata": {
        "id": "9vW7SZ4arSmh"
      },
      "execution_count": null,
      "outputs": []
    },
    {
      "cell_type": "code",
      "source": [
        "display(gastos.info(),\n",
        "gastos21.info(),\n",
        "gastos22.info(),\n",
        "gastos23.info())"
      ],
      "metadata": {
        "colab": {
          "base_uri": "https://localhost:8080/",
          "height": 1000
        },
        "id": "xMOsglGprWS9",
        "outputId": "2738f1f1-ed6b-4213-d8be-3163bb289ffb"
      },
      "execution_count": null,
      "outputs": [
        {
          "output_type": "stream",
          "name": "stdout",
          "text": [
            "<class 'pandas.core.frame.DataFrame'>\n",
            "RangeIndex: 3342 entries, 0 to 3341\n",
            "Data columns (total 19 columns):\n",
            " #   Column       Non-Null Count  Dtype         \n",
            "---  ------       --------------  -----         \n",
            " 0   FECHA        3342 non-null   datetime64[ns]\n",
            " 1   FOLIO        3153 non-null   object        \n",
            " 2   UUID         3342 non-null   object        \n",
            " 3   RFC          3342 non-null   object        \n",
            " 4   PROVEEDOR    3342 non-null   object        \n",
            " 5   TIPO GASTO   3342 non-null   object        \n",
            " 6   GASTO        840 non-null    object        \n",
            " 7   DESCRIPCION  3342 non-null   object        \n",
            " 8   TC           2951 non-null   float64       \n",
            " 9   IMPORTE      3308 non-null   float64       \n",
            " 10  IVA          3074 non-null   float64       \n",
            " 11  RET ISR      3342 non-null   float64       \n",
            " 12  RET IVA      3342 non-null   float64       \n",
            " 13  TOTAL MX     3342 non-null   float64       \n",
            " 14  TOTAL SAT    3342 non-null   float64       \n",
            " 15  TIPO         3341 non-null   object        \n",
            " 16  STATUS       3342 non-null   object        \n",
            " 17  POLIZA       21 non-null     object        \n",
            " 18  Unnamed: 18  3342 non-null   float64       \n",
            "dtypes: datetime64[ns](1), float64(8), object(10)\n",
            "memory usage: 496.2+ KB\n",
            "<class 'pandas.core.frame.DataFrame'>\n",
            "RangeIndex: 3035 entries, 0 to 3034\n",
            "Data columns (total 18 columns):\n",
            " #   Column       Non-Null Count  Dtype         \n",
            "---  ------       --------------  -----         \n",
            " 0   FECHA        3035 non-null   datetime64[ns]\n",
            " 1   FOLIO        2888 non-null   object        \n",
            " 2   UUID         3035 non-null   object        \n",
            " 3   RFC          3035 non-null   object        \n",
            " 4   PROVEEDOR    3035 non-null   object        \n",
            " 5   TIPO GASTO   3035 non-null   object        \n",
            " 6   DESCRIPCION  3035 non-null   object        \n",
            " 7   MP           2381 non-null   object        \n",
            " 8   TC           3035 non-null   float64       \n",
            " 9   IMPORTE      3035 non-null   float64       \n",
            " 10  IVA          3035 non-null   float64       \n",
            " 11  RET ISR      3035 non-null   float64       \n",
            " 12  RET IVA      3035 non-null   float64       \n",
            " 13  TOTAL MX     3035 non-null   float64       \n",
            " 14  TOTAL SAT    3035 non-null   float64       \n",
            " 15  TIPO         3035 non-null   object        \n",
            " 16  STATUS       3035 non-null   object        \n",
            " 17  POLIZA       663 non-null    object        \n",
            "dtypes: datetime64[ns](1), float64(7), object(10)\n",
            "memory usage: 426.9+ KB\n",
            "<class 'pandas.core.frame.DataFrame'>\n",
            "RangeIndex: 2577 entries, 0 to 2576\n",
            "Data columns (total 19 columns):\n",
            " #   Column       Non-Null Count  Dtype         \n",
            "---  ------       --------------  -----         \n",
            " 0   Fecha        2577 non-null   datetime64[ns]\n",
            " 1   Folio        2475 non-null   object        \n",
            " 2   UUID         2577 non-null   object        \n",
            " 3   RFC          2577 non-null   object        \n",
            " 4   Proveedor    2577 non-null   object        \n",
            " 5   TIPO GASTO   2577 non-null   object        \n",
            " 6   Descripción  2577 non-null   object        \n",
            " 7   MP           2024 non-null   object        \n",
            " 8   TC           1941 non-null   float64       \n",
            " 9   Importe      2577 non-null   float64       \n",
            " 10  IVA          2577 non-null   float64       \n",
            " 11  RET ISR      2577 non-null   float64       \n",
            " 12  RET IVA      2577 non-null   float64       \n",
            " 13  Otros        0 non-null      float64       \n",
            " 14  TOTAL MX     2577 non-null   float64       \n",
            " 15  TOTAL SAT    2577 non-null   float64       \n",
            " 16  Tipo         2577 non-null   object        \n",
            " 17  Status       2577 non-null   object        \n",
            " 18  Poliza       1776 non-null   object        \n",
            "dtypes: datetime64[ns](1), float64(8), object(10)\n",
            "memory usage: 382.6+ KB\n",
            "<class 'pandas.core.frame.DataFrame'>\n",
            "RangeIndex: 397 entries, 0 to 396\n",
            "Data columns (total 20 columns):\n",
            " #   Column       Non-Null Count  Dtype         \n",
            "---  ------       --------------  -----         \n",
            " 0   Fecha        397 non-null    datetime64[ns]\n",
            " 1   Folio        384 non-null    object        \n",
            " 2   UUID         397 non-null    object        \n",
            " 3   RFC          397 non-null    object        \n",
            " 4   Proveedor    397 non-null    object        \n",
            " 5   TIPO GASTO   389 non-null    object        \n",
            " 6   Descripción  397 non-null    object        \n",
            " 7   MP           326 non-null    object        \n",
            " 8   FP           326 non-null    float64       \n",
            " 9   TC           397 non-null    float64       \n",
            " 10  Importe      397 non-null    float64       \n",
            " 11  IVA          397 non-null    float64       \n",
            " 12  RET ISR      397 non-null    float64       \n",
            " 13  RET IVA      397 non-null    float64       \n",
            " 14  Otros        0 non-null      float64       \n",
            " 15  TOTAL MX     397 non-null    float64       \n",
            " 16  TOTAL SAT    397 non-null    float64       \n",
            " 17  Tipo         397 non-null    object        \n",
            " 18  Status       397 non-null    object        \n",
            " 19  Poliza       282 non-null    object        \n",
            "dtypes: datetime64[ns](1), float64(9), object(10)\n",
            "memory usage: 62.2+ KB\n"
          ]
        },
        {
          "output_type": "display_data",
          "data": {
            "text/plain": [
              "None"
            ]
          },
          "metadata": {}
        },
        {
          "output_type": "display_data",
          "data": {
            "text/plain": [
              "None"
            ]
          },
          "metadata": {}
        },
        {
          "output_type": "display_data",
          "data": {
            "text/plain": [
              "None"
            ]
          },
          "metadata": {}
        },
        {
          "output_type": "display_data",
          "data": {
            "text/plain": [
              "None"
            ]
          },
          "metadata": {}
        }
      ]
    },
    {
      "cell_type": "code",
      "source": [
        "gastos = gastos.dropna(how = 'all',axis = 1)\n",
        "gastos21 = gastos21.dropna(how = 'all',axis = 1)\n",
        "gastos22 = gastos22.dropna(how = 'all',axis = 1)\n",
        "gastos23 = gastos23.dropna(how = 'all',axis = 1)\n",
        "\n",
        "display(gastos.info(),\n",
        "gastos21.info(),\n",
        "gastos22.info(),\n",
        "gastos23.info())"
      ],
      "metadata": {
        "colab": {
          "base_uri": "https://localhost:8080/",
          "height": 1000
        },
        "id": "V-Pjy15ZUlQ4",
        "outputId": "1e75a977-7e5d-4bf4-d63d-4997c03f0ad3"
      },
      "execution_count": null,
      "outputs": [
        {
          "output_type": "stream",
          "name": "stdout",
          "text": [
            "<class 'pandas.core.frame.DataFrame'>\n",
            "RangeIndex: 3342 entries, 0 to 3341\n",
            "Data columns (total 19 columns):\n",
            " #   Column       Non-Null Count  Dtype         \n",
            "---  ------       --------------  -----         \n",
            " 0   FECHA        3342 non-null   datetime64[ns]\n",
            " 1   FOLIO        3153 non-null   object        \n",
            " 2   UUID         3342 non-null   object        \n",
            " 3   RFC          3342 non-null   object        \n",
            " 4   PROVEEDOR    3342 non-null   object        \n",
            " 5   TIPO GASTO   3342 non-null   object        \n",
            " 6   GASTO        840 non-null    object        \n",
            " 7   DESCRIPCION  3342 non-null   object        \n",
            " 8   TC           2951 non-null   float64       \n",
            " 9   IMPORTE      3308 non-null   float64       \n",
            " 10  IVA          3074 non-null   float64       \n",
            " 11  RET ISR      3342 non-null   float64       \n",
            " 12  RET IVA      3342 non-null   float64       \n",
            " 13  TOTAL MX     3342 non-null   float64       \n",
            " 14  TOTAL SAT    3342 non-null   float64       \n",
            " 15  TIPO         3341 non-null   object        \n",
            " 16  STATUS       3342 non-null   object        \n",
            " 17  POLIZA       21 non-null     object        \n",
            " 18  Unnamed: 18  3342 non-null   float64       \n",
            "dtypes: datetime64[ns](1), float64(8), object(10)\n",
            "memory usage: 496.2+ KB\n",
            "<class 'pandas.core.frame.DataFrame'>\n",
            "RangeIndex: 3035 entries, 0 to 3034\n",
            "Data columns (total 18 columns):\n",
            " #   Column       Non-Null Count  Dtype         \n",
            "---  ------       --------------  -----         \n",
            " 0   FECHA        3035 non-null   datetime64[ns]\n",
            " 1   FOLIO        2888 non-null   object        \n",
            " 2   UUID         3035 non-null   object        \n",
            " 3   RFC          3035 non-null   object        \n",
            " 4   PROVEEDOR    3035 non-null   object        \n",
            " 5   TIPO GASTO   3035 non-null   object        \n",
            " 6   DESCRIPCION  3035 non-null   object        \n",
            " 7   MP           2381 non-null   object        \n",
            " 8   TC           3035 non-null   float64       \n",
            " 9   IMPORTE      3035 non-null   float64       \n",
            " 10  IVA          3035 non-null   float64       \n",
            " 11  RET ISR      3035 non-null   float64       \n",
            " 12  RET IVA      3035 non-null   float64       \n",
            " 13  TOTAL MX     3035 non-null   float64       \n",
            " 14  TOTAL SAT    3035 non-null   float64       \n",
            " 15  TIPO         3035 non-null   object        \n",
            " 16  STATUS       3035 non-null   object        \n",
            " 17  POLIZA       663 non-null    object        \n",
            "dtypes: datetime64[ns](1), float64(7), object(10)\n",
            "memory usage: 426.9+ KB\n",
            "<class 'pandas.core.frame.DataFrame'>\n",
            "RangeIndex: 2577 entries, 0 to 2576\n",
            "Data columns (total 18 columns):\n",
            " #   Column       Non-Null Count  Dtype         \n",
            "---  ------       --------------  -----         \n",
            " 0   Fecha        2577 non-null   datetime64[ns]\n",
            " 1   Folio        2475 non-null   object        \n",
            " 2   UUID         2577 non-null   object        \n",
            " 3   RFC          2577 non-null   object        \n",
            " 4   Proveedor    2577 non-null   object        \n",
            " 5   TIPO GASTO   2577 non-null   object        \n",
            " 6   Descripción  2577 non-null   object        \n",
            " 7   MP           2024 non-null   object        \n",
            " 8   TC           1941 non-null   float64       \n",
            " 9   Importe      2577 non-null   float64       \n",
            " 10  IVA          2577 non-null   float64       \n",
            " 11  RET ISR      2577 non-null   float64       \n",
            " 12  RET IVA      2577 non-null   float64       \n",
            " 13  TOTAL MX     2577 non-null   float64       \n",
            " 14  TOTAL SAT    2577 non-null   float64       \n",
            " 15  Tipo         2577 non-null   object        \n",
            " 16  Status       2577 non-null   object        \n",
            " 17  Poliza       1776 non-null   object        \n",
            "dtypes: datetime64[ns](1), float64(7), object(10)\n",
            "memory usage: 362.5+ KB\n",
            "<class 'pandas.core.frame.DataFrame'>\n",
            "RangeIndex: 397 entries, 0 to 396\n",
            "Data columns (total 19 columns):\n",
            " #   Column       Non-Null Count  Dtype         \n",
            "---  ------       --------------  -----         \n",
            " 0   Fecha        397 non-null    datetime64[ns]\n",
            " 1   Folio        384 non-null    object        \n",
            " 2   UUID         397 non-null    object        \n",
            " 3   RFC          397 non-null    object        \n",
            " 4   Proveedor    397 non-null    object        \n",
            " 5   TIPO GASTO   389 non-null    object        \n",
            " 6   Descripción  397 non-null    object        \n",
            " 7   MP           326 non-null    object        \n",
            " 8   FP           326 non-null    float64       \n",
            " 9   TC           397 non-null    float64       \n",
            " 10  Importe      397 non-null    float64       \n",
            " 11  IVA          397 non-null    float64       \n",
            " 12  RET ISR      397 non-null    float64       \n",
            " 13  RET IVA      397 non-null    float64       \n",
            " 14  TOTAL MX     397 non-null    float64       \n",
            " 15  TOTAL SAT    397 non-null    float64       \n",
            " 16  Tipo         397 non-null    object        \n",
            " 17  Status       397 non-null    object        \n",
            " 18  Poliza       282 non-null    object        \n",
            "dtypes: datetime64[ns](1), float64(8), object(10)\n",
            "memory usage: 59.1+ KB\n"
          ]
        },
        {
          "output_type": "display_data",
          "data": {
            "text/plain": [
              "None"
            ]
          },
          "metadata": {}
        },
        {
          "output_type": "display_data",
          "data": {
            "text/plain": [
              "None"
            ]
          },
          "metadata": {}
        },
        {
          "output_type": "display_data",
          "data": {
            "text/plain": [
              "None"
            ]
          },
          "metadata": {}
        },
        {
          "output_type": "display_data",
          "data": {
            "text/plain": [
              "None"
            ]
          },
          "metadata": {}
        }
      ]
    },
    {
      "cell_type": "code",
      "source": [
        "gastos = gastos.drop('STATUS',axis=1)\n",
        "gastos21 = gastos21.drop('STATUS',axis=1)\n",
        "gastos22 = gastos22.drop('Status',axis=1)\n",
        "gastos23 = gastos23.drop('Status',axis=1)\n",
        "\n",
        "display(gastos.info(),\n",
        "gastos21.info(),\n",
        "gastos22.info(),\n",
        "gastos23.info())"
      ],
      "metadata": {
        "colab": {
          "base_uri": "https://localhost:8080/",
          "height": 1000
        },
        "id": "fSxTp9UBWeu7",
        "outputId": "d7aa83c4-e85b-4a6f-f1f1-dde9e101c2c4"
      },
      "execution_count": null,
      "outputs": [
        {
          "output_type": "stream",
          "name": "stdout",
          "text": [
            "<class 'pandas.core.frame.DataFrame'>\n",
            "RangeIndex: 3342 entries, 0 to 3341\n",
            "Data columns (total 18 columns):\n",
            " #   Column       Non-Null Count  Dtype         \n",
            "---  ------       --------------  -----         \n",
            " 0   FECHA        3342 non-null   datetime64[ns]\n",
            " 1   FOLIO        3153 non-null   object        \n",
            " 2   UUID         3342 non-null   object        \n",
            " 3   RFC          3342 non-null   object        \n",
            " 4   PROVEEDOR    3342 non-null   object        \n",
            " 5   TIPO GASTO   3342 non-null   object        \n",
            " 6   GASTO        840 non-null    object        \n",
            " 7   DESCRIPCION  3342 non-null   object        \n",
            " 8   TC           2951 non-null   float64       \n",
            " 9   IMPORTE      3308 non-null   float64       \n",
            " 10  IVA          3074 non-null   float64       \n",
            " 11  RET ISR      3342 non-null   float64       \n",
            " 12  RET IVA      3342 non-null   float64       \n",
            " 13  TOTAL MX     3342 non-null   float64       \n",
            " 14  TOTAL SAT    3342 non-null   float64       \n",
            " 15  TIPO         3341 non-null   object        \n",
            " 16  POLIZA       21 non-null     object        \n",
            " 17  Unnamed: 18  3342 non-null   float64       \n",
            "dtypes: datetime64[ns](1), float64(8), object(9)\n",
            "memory usage: 470.1+ KB\n",
            "<class 'pandas.core.frame.DataFrame'>\n",
            "RangeIndex: 3035 entries, 0 to 3034\n",
            "Data columns (total 17 columns):\n",
            " #   Column       Non-Null Count  Dtype         \n",
            "---  ------       --------------  -----         \n",
            " 0   FECHA        3035 non-null   datetime64[ns]\n",
            " 1   FOLIO        2888 non-null   object        \n",
            " 2   UUID         3035 non-null   object        \n",
            " 3   RFC          3035 non-null   object        \n",
            " 4   PROVEEDOR    3035 non-null   object        \n",
            " 5   TIPO GASTO   3035 non-null   object        \n",
            " 6   DESCRIPCION  3035 non-null   object        \n",
            " 7   MP           2381 non-null   object        \n",
            " 8   TC           3035 non-null   float64       \n",
            " 9   IMPORTE      3035 non-null   float64       \n",
            " 10  IVA          3035 non-null   float64       \n",
            " 11  RET ISR      3035 non-null   float64       \n",
            " 12  RET IVA      3035 non-null   float64       \n",
            " 13  TOTAL MX     3035 non-null   float64       \n",
            " 14  TOTAL SAT    3035 non-null   float64       \n",
            " 15  TIPO         3035 non-null   object        \n",
            " 16  POLIZA       663 non-null    object        \n",
            "dtypes: datetime64[ns](1), float64(7), object(9)\n",
            "memory usage: 403.2+ KB\n",
            "<class 'pandas.core.frame.DataFrame'>\n",
            "RangeIndex: 2577 entries, 0 to 2576\n",
            "Data columns (total 17 columns):\n",
            " #   Column       Non-Null Count  Dtype         \n",
            "---  ------       --------------  -----         \n",
            " 0   Fecha        2577 non-null   datetime64[ns]\n",
            " 1   Folio        2475 non-null   object        \n",
            " 2   UUID         2577 non-null   object        \n",
            " 3   RFC          2577 non-null   object        \n",
            " 4   Proveedor    2577 non-null   object        \n",
            " 5   TIPO GASTO   2577 non-null   object        \n",
            " 6   Descripción  2577 non-null   object        \n",
            " 7   MP           2024 non-null   object        \n",
            " 8   TC           1941 non-null   float64       \n",
            " 9   Importe      2577 non-null   float64       \n",
            " 10  IVA          2577 non-null   float64       \n",
            " 11  RET ISR      2577 non-null   float64       \n",
            " 12  RET IVA      2577 non-null   float64       \n",
            " 13  TOTAL MX     2577 non-null   float64       \n",
            " 14  TOTAL SAT    2577 non-null   float64       \n",
            " 15  Tipo         2577 non-null   object        \n",
            " 16  Poliza       1776 non-null   object        \n",
            "dtypes: datetime64[ns](1), float64(7), object(9)\n",
            "memory usage: 342.4+ KB\n",
            "<class 'pandas.core.frame.DataFrame'>\n",
            "RangeIndex: 397 entries, 0 to 396\n",
            "Data columns (total 18 columns):\n",
            " #   Column       Non-Null Count  Dtype         \n",
            "---  ------       --------------  -----         \n",
            " 0   Fecha        397 non-null    datetime64[ns]\n",
            " 1   Folio        384 non-null    object        \n",
            " 2   UUID         397 non-null    object        \n",
            " 3   RFC          397 non-null    object        \n",
            " 4   Proveedor    397 non-null    object        \n",
            " 5   TIPO GASTO   389 non-null    object        \n",
            " 6   Descripción  397 non-null    object        \n",
            " 7   MP           326 non-null    object        \n",
            " 8   FP           326 non-null    float64       \n",
            " 9   TC           397 non-null    float64       \n",
            " 10  Importe      397 non-null    float64       \n",
            " 11  IVA          397 non-null    float64       \n",
            " 12  RET ISR      397 non-null    float64       \n",
            " 13  RET IVA      397 non-null    float64       \n",
            " 14  TOTAL MX     397 non-null    float64       \n",
            " 15  TOTAL SAT    397 non-null    float64       \n",
            " 16  Tipo         397 non-null    object        \n",
            " 17  Poliza       282 non-null    object        \n",
            "dtypes: datetime64[ns](1), float64(8), object(9)\n",
            "memory usage: 56.0+ KB\n"
          ]
        },
        {
          "output_type": "display_data",
          "data": {
            "text/plain": [
              "None"
            ]
          },
          "metadata": {}
        },
        {
          "output_type": "display_data",
          "data": {
            "text/plain": [
              "None"
            ]
          },
          "metadata": {}
        },
        {
          "output_type": "display_data",
          "data": {
            "text/plain": [
              "None"
            ]
          },
          "metadata": {}
        },
        {
          "output_type": "display_data",
          "data": {
            "text/plain": [
              "None"
            ]
          },
          "metadata": {}
        }
      ]
    },
    {
      "cell_type": "code",
      "source": [
        "gastos = gastos.dropna(how = 'all',axis = 0)\n",
        "gastos21 = gastos21.dropna(how = 'all',axis = 0)\n",
        "gastos22 = gastos22.dropna(how = 'all',axis = 0)\n",
        "gastos23 = gastos23.dropna(how = 'all',axis = 0)\n",
        "\n",
        "display(gastos.info(),\n",
        "gastos21.info(),\n",
        "gastos22.info(),\n",
        "gastos23.info())"
      ],
      "metadata": {
        "colab": {
          "base_uri": "https://localhost:8080/",
          "height": 1000
        },
        "id": "9Xnqz39NWn5e",
        "outputId": "33f31c08-69f5-4a14-9593-ffd0a9b089f8"
      },
      "execution_count": null,
      "outputs": [
        {
          "output_type": "stream",
          "name": "stdout",
          "text": [
            "<class 'pandas.core.frame.DataFrame'>\n",
            "RangeIndex: 3342 entries, 0 to 3341\n",
            "Data columns (total 18 columns):\n",
            " #   Column       Non-Null Count  Dtype         \n",
            "---  ------       --------------  -----         \n",
            " 0   FECHA        3342 non-null   datetime64[ns]\n",
            " 1   FOLIO        3153 non-null   object        \n",
            " 2   UUID         3342 non-null   object        \n",
            " 3   RFC          3342 non-null   object        \n",
            " 4   PROVEEDOR    3342 non-null   object        \n",
            " 5   TIPO GASTO   3342 non-null   object        \n",
            " 6   GASTO        840 non-null    object        \n",
            " 7   DESCRIPCION  3342 non-null   object        \n",
            " 8   TC           2951 non-null   float64       \n",
            " 9   IMPORTE      3308 non-null   float64       \n",
            " 10  IVA          3074 non-null   float64       \n",
            " 11  RET ISR      3342 non-null   float64       \n",
            " 12  RET IVA      3342 non-null   float64       \n",
            " 13  TOTAL MX     3342 non-null   float64       \n",
            " 14  TOTAL SAT    3342 non-null   float64       \n",
            " 15  TIPO         3341 non-null   object        \n",
            " 16  POLIZA       21 non-null     object        \n",
            " 17  Unnamed: 18  3342 non-null   float64       \n",
            "dtypes: datetime64[ns](1), float64(8), object(9)\n",
            "memory usage: 470.1+ KB\n",
            "<class 'pandas.core.frame.DataFrame'>\n",
            "RangeIndex: 3035 entries, 0 to 3034\n",
            "Data columns (total 17 columns):\n",
            " #   Column       Non-Null Count  Dtype         \n",
            "---  ------       --------------  -----         \n",
            " 0   FECHA        3035 non-null   datetime64[ns]\n",
            " 1   FOLIO        2888 non-null   object        \n",
            " 2   UUID         3035 non-null   object        \n",
            " 3   RFC          3035 non-null   object        \n",
            " 4   PROVEEDOR    3035 non-null   object        \n",
            " 5   TIPO GASTO   3035 non-null   object        \n",
            " 6   DESCRIPCION  3035 non-null   object        \n",
            " 7   MP           2381 non-null   object        \n",
            " 8   TC           3035 non-null   float64       \n",
            " 9   IMPORTE      3035 non-null   float64       \n",
            " 10  IVA          3035 non-null   float64       \n",
            " 11  RET ISR      3035 non-null   float64       \n",
            " 12  RET IVA      3035 non-null   float64       \n",
            " 13  TOTAL MX     3035 non-null   float64       \n",
            " 14  TOTAL SAT    3035 non-null   float64       \n",
            " 15  TIPO         3035 non-null   object        \n",
            " 16  POLIZA       663 non-null    object        \n",
            "dtypes: datetime64[ns](1), float64(7), object(9)\n",
            "memory usage: 403.2+ KB\n",
            "<class 'pandas.core.frame.DataFrame'>\n",
            "RangeIndex: 2577 entries, 0 to 2576\n",
            "Data columns (total 17 columns):\n",
            " #   Column       Non-Null Count  Dtype         \n",
            "---  ------       --------------  -----         \n",
            " 0   Fecha        2577 non-null   datetime64[ns]\n",
            " 1   Folio        2475 non-null   object        \n",
            " 2   UUID         2577 non-null   object        \n",
            " 3   RFC          2577 non-null   object        \n",
            " 4   Proveedor    2577 non-null   object        \n",
            " 5   TIPO GASTO   2577 non-null   object        \n",
            " 6   Descripción  2577 non-null   object        \n",
            " 7   MP           2024 non-null   object        \n",
            " 8   TC           1941 non-null   float64       \n",
            " 9   Importe      2577 non-null   float64       \n",
            " 10  IVA          2577 non-null   float64       \n",
            " 11  RET ISR      2577 non-null   float64       \n",
            " 12  RET IVA      2577 non-null   float64       \n",
            " 13  TOTAL MX     2577 non-null   float64       \n",
            " 14  TOTAL SAT    2577 non-null   float64       \n",
            " 15  Tipo         2577 non-null   object        \n",
            " 16  Poliza       1776 non-null   object        \n",
            "dtypes: datetime64[ns](1), float64(7), object(9)\n",
            "memory usage: 342.4+ KB\n",
            "<class 'pandas.core.frame.DataFrame'>\n",
            "RangeIndex: 397 entries, 0 to 396\n",
            "Data columns (total 18 columns):\n",
            " #   Column       Non-Null Count  Dtype         \n",
            "---  ------       --------------  -----         \n",
            " 0   Fecha        397 non-null    datetime64[ns]\n",
            " 1   Folio        384 non-null    object        \n",
            " 2   UUID         397 non-null    object        \n",
            " 3   RFC          397 non-null    object        \n",
            " 4   Proveedor    397 non-null    object        \n",
            " 5   TIPO GASTO   389 non-null    object        \n",
            " 6   Descripción  397 non-null    object        \n",
            " 7   MP           326 non-null    object        \n",
            " 8   FP           326 non-null    float64       \n",
            " 9   TC           397 non-null    float64       \n",
            " 10  Importe      397 non-null    float64       \n",
            " 11  IVA          397 non-null    float64       \n",
            " 12  RET ISR      397 non-null    float64       \n",
            " 13  RET IVA      397 non-null    float64       \n",
            " 14  TOTAL MX     397 non-null    float64       \n",
            " 15  TOTAL SAT    397 non-null    float64       \n",
            " 16  Tipo         397 non-null    object        \n",
            " 17  Poliza       282 non-null    object        \n",
            "dtypes: datetime64[ns](1), float64(8), object(9)\n",
            "memory usage: 56.0+ KB\n"
          ]
        },
        {
          "output_type": "display_data",
          "data": {
            "text/plain": [
              "None"
            ]
          },
          "metadata": {}
        },
        {
          "output_type": "display_data",
          "data": {
            "text/plain": [
              "None"
            ]
          },
          "metadata": {}
        },
        {
          "output_type": "display_data",
          "data": {
            "text/plain": [
              "None"
            ]
          },
          "metadata": {}
        },
        {
          "output_type": "display_data",
          "data": {
            "text/plain": [
              "None"
            ]
          },
          "metadata": {}
        }
      ]
    },
    {
      "cell_type": "code",
      "source": [
        "gastos = gastos.drop_duplicates(subset = 'FOLIO')\n",
        "gastos21 = gastos21.drop_duplicates(subset = 'FOLIO')\n",
        "gastos22 = gastos22.drop_duplicates(subset = 'Folio')\n",
        "gastos23 = gastos23.drop_duplicates(subset = 'Folio')\n",
        "\n",
        "display(gastos.info(),\n",
        "gastos21.info(),\n",
        "gastos22.info(),\n",
        "gastos23.info())"
      ],
      "metadata": {
        "colab": {
          "base_uri": "https://localhost:8080/",
          "height": 1000
        },
        "id": "xJV3DkbrXa21",
        "outputId": "71a1c3ab-b489-4391-efcc-d5ba7c3e39be"
      },
      "execution_count": null,
      "outputs": [
        {
          "output_type": "stream",
          "name": "stdout",
          "text": [
            "<class 'pandas.core.frame.DataFrame'>\n",
            "Int64Index: 2976 entries, 0 to 3341\n",
            "Data columns (total 18 columns):\n",
            " #   Column       Non-Null Count  Dtype         \n",
            "---  ------       --------------  -----         \n",
            " 0   FECHA        2976 non-null   datetime64[ns]\n",
            " 1   FOLIO        2975 non-null   object        \n",
            " 2   UUID         2976 non-null   object        \n",
            " 3   RFC          2976 non-null   object        \n",
            " 4   PROVEEDOR    2976 non-null   object        \n",
            " 5   TIPO GASTO   2976 non-null   object        \n",
            " 6   GASTO        720 non-null    object        \n",
            " 7   DESCRIPCION  2976 non-null   object        \n",
            " 8   TC           2637 non-null   float64       \n",
            " 9   IMPORTE      2942 non-null   float64       \n",
            " 10  IVA          2753 non-null   float64       \n",
            " 11  RET ISR      2976 non-null   float64       \n",
            " 12  RET IVA      2976 non-null   float64       \n",
            " 13  TOTAL MX     2976 non-null   float64       \n",
            " 14  TOTAL SAT    2976 non-null   float64       \n",
            " 15  TIPO         2975 non-null   object        \n",
            " 16  POLIZA       20 non-null     object        \n",
            " 17  Unnamed: 18  2976 non-null   float64       \n",
            "dtypes: datetime64[ns](1), float64(8), object(9)\n",
            "memory usage: 441.8+ KB\n",
            "<class 'pandas.core.frame.DataFrame'>\n",
            "Int64Index: 2681 entries, 0 to 3034\n",
            "Data columns (total 17 columns):\n",
            " #   Column       Non-Null Count  Dtype         \n",
            "---  ------       --------------  -----         \n",
            " 0   FECHA        2681 non-null   datetime64[ns]\n",
            " 1   FOLIO        2680 non-null   object        \n",
            " 2   UUID         2681 non-null   object        \n",
            " 3   RFC          2681 non-null   object        \n",
            " 4   PROVEEDOR    2681 non-null   object        \n",
            " 5   TIPO GASTO   2681 non-null   object        \n",
            " 6   DESCRIPCION  2681 non-null   object        \n",
            " 7   MP           2128 non-null   object        \n",
            " 8   TC           2681 non-null   float64       \n",
            " 9   IMPORTE      2681 non-null   float64       \n",
            " 10  IVA          2681 non-null   float64       \n",
            " 11  RET ISR      2681 non-null   float64       \n",
            " 12  RET IVA      2681 non-null   float64       \n",
            " 13  TOTAL MX     2681 non-null   float64       \n",
            " 14  TOTAL SAT    2681 non-null   float64       \n",
            " 15  TIPO         2681 non-null   object        \n",
            " 16  POLIZA       599 non-null    object        \n",
            "dtypes: datetime64[ns](1), float64(7), object(9)\n",
            "memory usage: 377.0+ KB\n",
            "<class 'pandas.core.frame.DataFrame'>\n",
            "Int64Index: 2341 entries, 0 to 2572\n",
            "Data columns (total 17 columns):\n",
            " #   Column       Non-Null Count  Dtype         \n",
            "---  ------       --------------  -----         \n",
            " 0   Fecha        2341 non-null   datetime64[ns]\n",
            " 1   Folio        2340 non-null   object        \n",
            " 2   UUID         2341 non-null   object        \n",
            " 3   RFC          2341 non-null   object        \n",
            " 4   Proveedor    2341 non-null   object        \n",
            " 5   TIPO GASTO   2341 non-null   object        \n",
            " 6   Descripción  2341 non-null   object        \n",
            " 7   MP           1859 non-null   object        \n",
            " 8   TC           1765 non-null   float64       \n",
            " 9   Importe      2341 non-null   float64       \n",
            " 10  IVA          2341 non-null   float64       \n",
            " 11  RET ISR      2341 non-null   float64       \n",
            " 12  RET IVA      2341 non-null   float64       \n",
            " 13  TOTAL MX     2341 non-null   float64       \n",
            " 14  TOTAL SAT    2341 non-null   float64       \n",
            " 15  Tipo         2341 non-null   object        \n",
            " 16  Poliza       1654 non-null   object        \n",
            "dtypes: datetime64[ns](1), float64(7), object(9)\n",
            "memory usage: 329.2+ KB\n",
            "<class 'pandas.core.frame.DataFrame'>\n",
            "Int64Index: 379 entries, 0 to 396\n",
            "Data columns (total 18 columns):\n",
            " #   Column       Non-Null Count  Dtype         \n",
            "---  ------       --------------  -----         \n",
            " 0   Fecha        379 non-null    datetime64[ns]\n",
            " 1   Folio        378 non-null    object        \n",
            " 2   UUID         379 non-null    object        \n",
            " 3   RFC          379 non-null    object        \n",
            " 4   Proveedor    379 non-null    object        \n",
            " 5   TIPO GASTO   372 non-null    object        \n",
            " 6   Descripción  379 non-null    object        \n",
            " 7   MP           312 non-null    object        \n",
            " 8   FP           312 non-null    float64       \n",
            " 9   TC           379 non-null    float64       \n",
            " 10  Importe      379 non-null    float64       \n",
            " 11  IVA          379 non-null    float64       \n",
            " 12  RET ISR      379 non-null    float64       \n",
            " 13  RET IVA      379 non-null    float64       \n",
            " 14  TOTAL MX     379 non-null    float64       \n",
            " 15  TOTAL SAT    379 non-null    float64       \n",
            " 16  Tipo         379 non-null    object        \n",
            " 17  Poliza       275 non-null    object        \n",
            "dtypes: datetime64[ns](1), float64(8), object(9)\n",
            "memory usage: 56.3+ KB\n"
          ]
        },
        {
          "output_type": "display_data",
          "data": {
            "text/plain": [
              "None"
            ]
          },
          "metadata": {}
        },
        {
          "output_type": "display_data",
          "data": {
            "text/plain": [
              "None"
            ]
          },
          "metadata": {}
        },
        {
          "output_type": "display_data",
          "data": {
            "text/plain": [
              "None"
            ]
          },
          "metadata": {}
        },
        {
          "output_type": "display_data",
          "data": {
            "text/plain": [
              "None"
            ]
          },
          "metadata": {}
        }
      ]
    },
    {
      "cell_type": "markdown",
      "source": [
        "### Métodos de Sustitución de Valores Nulos"
      ],
      "metadata": {
        "id": "myHNBsQa0946"
      }
    },
    {
      "cell_type": "code",
      "source": [
        "#Columnas no numéricas\n",
        "gastos['FOLIO'] = gastos['FOLIO'].fillna('Checar')\n",
        "gastos['TIPO GASTO'] = gastos['TIPO GASTO'].fillna('Checar')\n",
        "gastos['GASTO'] = gastos['GASTO'].fillna('Checar')\n",
        "gastos['POLIZA'] = gastos['POLIZA'].fillna('Checar')\n",
        "gastos['TIPO'] = gastos['TIPO'].fillna(method='bfill')\n",
        "\n",
        "#Columnas numéricas\n",
        "gastos['TC']=gastos['TC'].fillna(round(gastos['TC'].median(),2))\n",
        "gastos['IMPORTE']=gastos['IMPORTE'].fillna(round(gastos['IMPORTE'].median(),2))\n",
        "gastos['IVA']=gastos['IVA'].fillna(round(gastos['IVA'].median(),2))\n",
        "\n",
        "gastos.isnull().sum()"
      ],
      "metadata": {
        "colab": {
          "base_uri": "https://localhost:8080/"
        },
        "id": "q8iNpspBZkDQ",
        "outputId": "537a76e1-88e8-4d76-c53b-8df3c7384c87"
      },
      "execution_count": null,
      "outputs": [
        {
          "output_type": "execute_result",
          "data": {
            "text/plain": [
              "FECHA          0\n",
              "FOLIO          0\n",
              "UUID           0\n",
              "RFC            0\n",
              "PROVEEDOR      0\n",
              "TIPO GASTO     0\n",
              "GASTO          0\n",
              "DESCRIPCION    0\n",
              "TC             0\n",
              "IMPORTE        0\n",
              "IVA            0\n",
              "RET ISR        0\n",
              "RET IVA        0\n",
              "TOTAL MX       0\n",
              "TOTAL SAT      0\n",
              "TIPO           0\n",
              "POLIZA         0\n",
              "Unnamed: 18    0\n",
              "dtype: int64"
            ]
          },
          "metadata": {},
          "execution_count": 37
        }
      ]
    },
    {
      "cell_type": "code",
      "source": [
        "gastos21['FOLIO'] = gastos21['FOLIO'].fillna('Checar')\n",
        "gastos21['TIPO GASTO'] = gastos21['TIPO GASTO'].fillna('Checar')\n",
        "gastos21['MP'] = gastos21['MP'].fillna('Checar')\n",
        "gastos21['POLIZA'] = gastos21['POLIZA'].fillna('Checar')\n",
        "\n",
        "gastos21.isnull().sum()"
      ],
      "metadata": {
        "colab": {
          "base_uri": "https://localhost:8080/"
        },
        "id": "sRPIfYTudpcX",
        "outputId": "8e806345-ebde-433e-e595-edf47c07fb0a"
      },
      "execution_count": null,
      "outputs": [
        {
          "output_type": "execute_result",
          "data": {
            "text/plain": [
              "FECHA          0\n",
              "FOLIO          0\n",
              "UUID           0\n",
              "RFC            0\n",
              "PROVEEDOR      0\n",
              "TIPO GASTO     0\n",
              "DESCRIPCION    0\n",
              "MP             0\n",
              "TC             0\n",
              "IMPORTE        0\n",
              "IVA            0\n",
              "RET ISR        0\n",
              "RET IVA        0\n",
              "TOTAL MX       0\n",
              "TOTAL SAT      0\n",
              "TIPO           0\n",
              "POLIZA         0\n",
              "dtype: int64"
            ]
          },
          "metadata": {},
          "execution_count": 38
        }
      ]
    },
    {
      "cell_type": "code",
      "source": [
        "gastos22['Folio'] = gastos22['Folio'].fillna('Checar')\n",
        "gastos22['TIPO GASTO'] = gastos22['TIPO GASTO'].fillna('Checar')\n",
        "gastos22['MP'] = gastos22['MP'].fillna('Checar')\n",
        "gastos22['Poliza'] = gastos22['Poliza'].fillna('Checar')\n",
        "gastos22['TC']=gastos22['TC'].fillna(round(gastos22['TC'].median(),2))\n",
        "\n",
        "gastos22.isnull().sum()"
      ],
      "metadata": {
        "colab": {
          "base_uri": "https://localhost:8080/"
        },
        "id": "eAzHIaThezyQ",
        "outputId": "2b287324-ea5f-438e-e897-121e4f495e1a"
      },
      "execution_count": null,
      "outputs": [
        {
          "output_type": "execute_result",
          "data": {
            "text/plain": [
              "Fecha          0\n",
              "Folio          0\n",
              "UUID           0\n",
              "RFC            0\n",
              "Proveedor      0\n",
              "TIPO GASTO     0\n",
              "Descripción    0\n",
              "MP             0\n",
              "TC             0\n",
              "Importe        0\n",
              "IVA            0\n",
              "RET ISR        0\n",
              "RET IVA        0\n",
              "TOTAL MX       0\n",
              "TOTAL SAT      0\n",
              "Tipo           0\n",
              "Poliza         0\n",
              "dtype: int64"
            ]
          },
          "metadata": {},
          "execution_count": 39
        }
      ]
    },
    {
      "cell_type": "code",
      "source": [
        "gastos23['Folio'] = gastos23['Folio'].fillna('Checar')\n",
        "gastos23['TIPO GASTO'] = gastos23['TIPO GASTO'].fillna('Checar')\n",
        "gastos23['MP'] = gastos23['MP'].fillna('Checar')\n",
        "gastos23['FP'] = gastos23['FP'].fillna('Checar')\n",
        "gastos23['Poliza'] = gastos23['Poliza'].fillna('Checar')\n",
        "\n",
        "gastos23.isnull().sum()"
      ],
      "metadata": {
        "colab": {
          "base_uri": "https://localhost:8080/"
        },
        "id": "NyDCaVLBfaoZ",
        "outputId": "39f3c748-aa3a-4b5f-d80e-24ec5e3a3bbf"
      },
      "execution_count": null,
      "outputs": [
        {
          "output_type": "execute_result",
          "data": {
            "text/plain": [
              "Fecha          0\n",
              "Folio          0\n",
              "UUID           0\n",
              "RFC            0\n",
              "Proveedor      0\n",
              "TIPO GASTO     0\n",
              "Descripción    0\n",
              "MP             0\n",
              "FP             0\n",
              "TC             0\n",
              "Importe        0\n",
              "IVA            0\n",
              "RET ISR        0\n",
              "RET IVA        0\n",
              "TOTAL MX       0\n",
              "TOTAL SAT      0\n",
              "Tipo           0\n",
              "Poliza         0\n",
              "dtype: int64"
            ]
          },
          "metadata": {},
          "execution_count": 40
        }
      ]
    },
    {
      "cell_type": "code",
      "source": [
        "gastos.to_excel('gastos_sin_nas.xlsx')\n",
        "gastos21.to_excel('gastos21_sin_nas.xlsx')\n",
        "gastos22.to_excel('gastos22_sin_nas.xlsx')\n",
        "gastos23.to_excel('gastos23_sin_nas.xlsx')\n",
        "\n",
        "from google.colab import files\n",
        "files.download('gastos_sin_nas.xlsx')\n",
        "files.download('gastos21_sin_nas.xlsx')\n",
        "files.download('gastos22_sin_nas.xlsx')\n",
        "files.download('gastos23_sin_nas.xlsx')"
      ],
      "metadata": {
        "colab": {
          "base_uri": "https://localhost:8080/",
          "height": 17
        },
        "id": "Ao7prn8AfXby",
        "outputId": "887b92db-30b4-454e-8dee-c2583abb0924"
      },
      "execution_count": null,
      "outputs": [
        {
          "output_type": "display_data",
          "data": {
            "text/plain": [
              "<IPython.core.display.Javascript object>"
            ],
            "application/javascript": [
              "\n",
              "    async function download(id, filename, size) {\n",
              "      if (!google.colab.kernel.accessAllowed) {\n",
              "        return;\n",
              "      }\n",
              "      const div = document.createElement('div');\n",
              "      const label = document.createElement('label');\n",
              "      label.textContent = `Downloading \"${filename}\": `;\n",
              "      div.appendChild(label);\n",
              "      const progress = document.createElement('progress');\n",
              "      progress.max = size;\n",
              "      div.appendChild(progress);\n",
              "      document.body.appendChild(div);\n",
              "\n",
              "      const buffers = [];\n",
              "      let downloaded = 0;\n",
              "\n",
              "      const channel = await google.colab.kernel.comms.open(id);\n",
              "      // Send a message to notify the kernel that we're ready.\n",
              "      channel.send({})\n",
              "\n",
              "      for await (const message of channel.messages) {\n",
              "        // Send a message to notify the kernel that we're ready.\n",
              "        channel.send({})\n",
              "        if (message.buffers) {\n",
              "          for (const buffer of message.buffers) {\n",
              "            buffers.push(buffer);\n",
              "            downloaded += buffer.byteLength;\n",
              "            progress.value = downloaded;\n",
              "          }\n",
              "        }\n",
              "      }\n",
              "      const blob = new Blob(buffers, {type: 'application/binary'});\n",
              "      const a = document.createElement('a');\n",
              "      a.href = window.URL.createObjectURL(blob);\n",
              "      a.download = filename;\n",
              "      div.appendChild(a);\n",
              "      a.click();\n",
              "      div.remove();\n",
              "    }\n",
              "  "
            ]
          },
          "metadata": {}
        },
        {
          "output_type": "display_data",
          "data": {
            "text/plain": [
              "<IPython.core.display.Javascript object>"
            ],
            "application/javascript": [
              "download(\"download_66f6b713-a653-418f-ba93-79bc00bc8637\", \"gastos_sin_nas.xlsx\", 449624)"
            ]
          },
          "metadata": {}
        },
        {
          "output_type": "display_data",
          "data": {
            "text/plain": [
              "<IPython.core.display.Javascript object>"
            ],
            "application/javascript": [
              "\n",
              "    async function download(id, filename, size) {\n",
              "      if (!google.colab.kernel.accessAllowed) {\n",
              "        return;\n",
              "      }\n",
              "      const div = document.createElement('div');\n",
              "      const label = document.createElement('label');\n",
              "      label.textContent = `Downloading \"${filename}\": `;\n",
              "      div.appendChild(label);\n",
              "      const progress = document.createElement('progress');\n",
              "      progress.max = size;\n",
              "      div.appendChild(progress);\n",
              "      document.body.appendChild(div);\n",
              "\n",
              "      const buffers = [];\n",
              "      let downloaded = 0;\n",
              "\n",
              "      const channel = await google.colab.kernel.comms.open(id);\n",
              "      // Send a message to notify the kernel that we're ready.\n",
              "      channel.send({})\n",
              "\n",
              "      for await (const message of channel.messages) {\n",
              "        // Send a message to notify the kernel that we're ready.\n",
              "        channel.send({})\n",
              "        if (message.buffers) {\n",
              "          for (const buffer of message.buffers) {\n",
              "            buffers.push(buffer);\n",
              "            downloaded += buffer.byteLength;\n",
              "            progress.value = downloaded;\n",
              "          }\n",
              "        }\n",
              "      }\n",
              "      const blob = new Blob(buffers, {type: 'application/binary'});\n",
              "      const a = document.createElement('a');\n",
              "      a.href = window.URL.createObjectURL(blob);\n",
              "      a.download = filename;\n",
              "      div.appendChild(a);\n",
              "      a.click();\n",
              "      div.remove();\n",
              "    }\n",
              "  "
            ]
          },
          "metadata": {}
        },
        {
          "output_type": "display_data",
          "data": {
            "text/plain": [
              "<IPython.core.display.Javascript object>"
            ],
            "application/javascript": [
              "download(\"download_126b2a82-4ce3-4169-b48c-c6d6facde832\", \"gastos21_sin_nas.xlsx\", 405281)"
            ]
          },
          "metadata": {}
        },
        {
          "output_type": "display_data",
          "data": {
            "text/plain": [
              "<IPython.core.display.Javascript object>"
            ],
            "application/javascript": [
              "\n",
              "    async function download(id, filename, size) {\n",
              "      if (!google.colab.kernel.accessAllowed) {\n",
              "        return;\n",
              "      }\n",
              "      const div = document.createElement('div');\n",
              "      const label = document.createElement('label');\n",
              "      label.textContent = `Downloading \"${filename}\": `;\n",
              "      div.appendChild(label);\n",
              "      const progress = document.createElement('progress');\n",
              "      progress.max = size;\n",
              "      div.appendChild(progress);\n",
              "      document.body.appendChild(div);\n",
              "\n",
              "      const buffers = [];\n",
              "      let downloaded = 0;\n",
              "\n",
              "      const channel = await google.colab.kernel.comms.open(id);\n",
              "      // Send a message to notify the kernel that we're ready.\n",
              "      channel.send({})\n",
              "\n",
              "      for await (const message of channel.messages) {\n",
              "        // Send a message to notify the kernel that we're ready.\n",
              "        channel.send({})\n",
              "        if (message.buffers) {\n",
              "          for (const buffer of message.buffers) {\n",
              "            buffers.push(buffer);\n",
              "            downloaded += buffer.byteLength;\n",
              "            progress.value = downloaded;\n",
              "          }\n",
              "        }\n",
              "      }\n",
              "      const blob = new Blob(buffers, {type: 'application/binary'});\n",
              "      const a = document.createElement('a');\n",
              "      a.href = window.URL.createObjectURL(blob);\n",
              "      a.download = filename;\n",
              "      div.appendChild(a);\n",
              "      a.click();\n",
              "      div.remove();\n",
              "    }\n",
              "  "
            ]
          },
          "metadata": {}
        },
        {
          "output_type": "display_data",
          "data": {
            "text/plain": [
              "<IPython.core.display.Javascript object>"
            ],
            "application/javascript": [
              "download(\"download_5aa1a2a7-be6e-43ca-86c3-167aedb2eb13\", \"gastos22_sin_nas.xlsx\", 355867)"
            ]
          },
          "metadata": {}
        },
        {
          "output_type": "display_data",
          "data": {
            "text/plain": [
              "<IPython.core.display.Javascript object>"
            ],
            "application/javascript": [
              "\n",
              "    async function download(id, filename, size) {\n",
              "      if (!google.colab.kernel.accessAllowed) {\n",
              "        return;\n",
              "      }\n",
              "      const div = document.createElement('div');\n",
              "      const label = document.createElement('label');\n",
              "      label.textContent = `Downloading \"${filename}\": `;\n",
              "      div.appendChild(label);\n",
              "      const progress = document.createElement('progress');\n",
              "      progress.max = size;\n",
              "      div.appendChild(progress);\n",
              "      document.body.appendChild(div);\n",
              "\n",
              "      const buffers = [];\n",
              "      let downloaded = 0;\n",
              "\n",
              "      const channel = await google.colab.kernel.comms.open(id);\n",
              "      // Send a message to notify the kernel that we're ready.\n",
              "      channel.send({})\n",
              "\n",
              "      for await (const message of channel.messages) {\n",
              "        // Send a message to notify the kernel that we're ready.\n",
              "        channel.send({})\n",
              "        if (message.buffers) {\n",
              "          for (const buffer of message.buffers) {\n",
              "            buffers.push(buffer);\n",
              "            downloaded += buffer.byteLength;\n",
              "            progress.value = downloaded;\n",
              "          }\n",
              "        }\n",
              "      }\n",
              "      const blob = new Blob(buffers, {type: 'application/binary'});\n",
              "      const a = document.createElement('a');\n",
              "      a.href = window.URL.createObjectURL(blob);\n",
              "      a.download = filename;\n",
              "      div.appendChild(a);\n",
              "      a.click();\n",
              "      div.remove();\n",
              "    }\n",
              "  "
            ]
          },
          "metadata": {}
        },
        {
          "output_type": "display_data",
          "data": {
            "text/plain": [
              "<IPython.core.display.Javascript object>"
            ],
            "application/javascript": [
              "download(\"download_ba809c16-ccf1-4f7d-9f7f-99ad4b6b3bc2\", \"gastos23_sin_nas.xlsx\", 64738)"
            ]
          },
          "metadata": {}
        }
      ]
    }
  ]
}